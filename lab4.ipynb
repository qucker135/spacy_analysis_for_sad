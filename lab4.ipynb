{
 "cells": [
  {
   "cell_type": "code",
   "execution_count": 5,
   "metadata": {},
   "outputs": [],
   "source": [
    "import numpy as np\n",
    "import pandas as pd\n",
    "import matplotlib.pyplot as plt\n",
    "import seaborn as sns\n",
    "import statsmodels.api as sm\n",
    "from patsy import dmatrices"
   ]
  },
  {
   "cell_type": "code",
   "execution_count": 6,
   "metadata": {},
   "outputs": [],
   "source": [
    "df = pd.read_excel('POSE-205.xlsx')"
   ]
  },
  {
   "cell_type": "code",
   "execution_count": 7,
   "metadata": {},
   "outputs": [
    {
     "name": "stdout",
     "output_type": "stream",
     "text": [
      "                                                   name                  city\n",
      "0     SZKOŁA PODSTAWOWA NR 8 IM. MARTYROLOGII PIAŚNI...             WEJHEROWO\n",
      "1                       SZKOŁA PODSTAWOWA NR 48 W GDYNI                GDYNIA\n",
      "2     SZKOŁA PODSTAWOWA IM. ARKADEGO FIEDLERA W PRZY...            PRZYBOROWO\n",
      "3     ZESPÓŁ SZKÓŁ IM. KONSTYTUCJI 3 MAJA W POBIEDZI...  POBIEDZISKA LETNISKO\n",
      "4                  ZESPÓŁ SZKOLNO-PRZEDSZKOLNY W MODRZU                MODRZE\n",
      "...                                                 ...                   ...\n",
      "1770  Technikum nr 2 w Zespole Szkół Budowlanych w B...           Bolesławiec\n",
      "1771  Zespół Szkół Ogólnokształcących i Zawodowych i...           Bolesławiec\n",
      "1772  Technikum Informatyczne przy Noworudzkiej Szko...             Nowa Ruda\n",
      "1773                SPOŁECZNA SZKOŁA PODSTAWOWA W GZACH                   GZY\n",
      "1774  SZKOŁA PODSTAWOWA IM. PPOR. EMILII GIERCZAK W ...                  ŁĄCK\n",
      "\n",
      "[1775 rows x 2 columns]\n"
     ]
    },
    {
     "name": "stderr",
     "output_type": "stream",
     "text": [
      "C:\\Users\\qucker135\\AppData\\Local\\Temp\\ipykernel_13116\\305767049.py:4: SettingWithCopyWarning: \n",
      "A value is trying to be set on a copy of a slice from a DataFrame\n",
      "\n",
      "See the caveats in the documentation: https://pandas.pydata.org/pandas-docs/stable/user_guide/indexing.html#returning-a-view-versus-a-copy\n",
      "  df2.dropna(inplace=True)\n",
      "C:\\Users\\qucker135\\AppData\\Local\\Temp\\ipykernel_13116\\305767049.py:5: SettingWithCopyWarning: \n",
      "A value is trying to be set on a copy of a slice from a DataFrame\n",
      "\n",
      "See the caveats in the documentation: https://pandas.pydata.org/pandas-docs/stable/user_guide/indexing.html#returning-a-view-versus-a-copy\n",
      "  df2.drop_duplicates(inplace=True)\n"
     ]
    }
   ],
   "source": [
    "# vars = ['name', 'humidity_avg', 'pm10_avg', 'pm25_avg', 'pressure_avg', 'temperature_avg']\n",
    "vars = ['name', 'city']\n",
    "df2 = df[vars]\n",
    "df2.dropna(inplace=True)\n",
    "df2.drop_duplicates(inplace=True)\n",
    "df2.reset_index(drop=True, inplace=True)\n",
    "print(df2)\n",
    "\n",
    "\n",
    "\n",
    "# df2 = df[vars]\n",
    "\n",
    "# df2[-5:]"
   ]
  },
  {
   "cell_type": "code",
   "execution_count": 18,
   "metadata": {},
   "outputs": [
    {
     "name": "stdout",
     "output_type": "stream",
     "text": [
      "Cezary Baryka 12 25 persName\n"
     ]
    }
   ],
   "source": [
    "import spacy\n",
    "\n",
    "nlp = spacy.load(\"pl_core_news_sm\")\n",
    "doc = nlp(\"Nazywam się Cezary Baryka, i od 2 tygodni jestem właścicielem tego szklanego domu. Hej dzieci, jestem Papa Słoń co robicie tak daleko od miasta?\")\n",
    "\n",
    "for ent in doc.ents:\n",
    "    print(ent.text, ent.start_char, ent.end_char, ent.label_)"
   ]
  },
  {
   "cell_type": "code",
   "execution_count": 35,
   "metadata": {},
   "outputs": [
    {
     "name": "stdout",
     "output_type": "stream",
     "text": [
      "{'Jan Paweł II': 56, 'Mikołaj Kopernik': 45, 'Maria Konopnicka': 42, 'Adam Mickiewicz': 19, 'Janusz Korczak': 16, 'Jan Kochanowski': 16, 'Jan Twardowski': 14, 'Kornel Makuszyński': 14, 'Stefan Wyszyński': 13, 'Henryk Sienkiewicz': 13}\n"
     ]
    }
   ],
   "source": [
    "# y, X = dmatrices('pressure_avg ~ humidity_avg + pm10_avg', data=df2, return_type='dataframe')\n",
    "import spacy\n",
    "from collections import Counter\n",
    "\n",
    "nlp = spacy.load(\"pl_core_news_lg\")\n",
    "# lemmatizer = nlp.get_pipe(\"lemmatizer\")\n",
    "# print(lemmatizer.mode)\n",
    "\n",
    "doc = nlp(' | '.join(df2['name']).title())\n",
    "\n",
    "person_lemmas = []\n",
    "\n",
    "for ent in doc.ents:\n",
    "    if ent.label_ == 'persName':\n",
    "        # print(ent.text, ent.start_char, ent.end_char, ent.label_)\n",
    "        # l.append(' '.join([token.lemma_ for token in ent]))\n",
    "        person_lemmas.append(ent.lemma_)\n",
    "\n",
    "# convert to dictionary with number of occurences\n",
    "\n",
    "# d = dict(Counter(l))\n",
    "# print(d)\n",
    "person_lemmas = [x.title() for x in person_lemmas if len(x) > 3]\n",
    "\n",
    "# for each person entity, get the basic form of the name\n",
    "\n",
    "# get the most common names\n",
    "most_common = dict(Counter(person_lemmas).most_common(10))\n",
    "if 'Jan Paweł Ii W' in most_common:\n",
    "    most_common['Jan Paweł II'] = most_common['Jan Paweł Ii W']\n",
    "    most_common.pop('Jan Paweł Ii W')\n",
    "most_common = dict(sorted(most_common.items(), key=lambda item: item[1], reverse=True))\n",
    "print(most_common)"
   ]
  },
  {
   "cell_type": "code",
   "execution_count": 1,
   "metadata": {},
   "outputs": [
    {
     "name": "stdout",
     "output_type": "stream",
     "text": [
      "Pipeline: ['tok2vec', 'tagger', 'parser', 'attribute_ruler', 'lemmatizer', 'ner']\n",
      "Case=Nom|Number=Sing|Person=1|PronType=Prs\n",
      "['Prs']\n"
     ]
    }
   ],
   "source": [
    "import spacy\n",
    "\n",
    "nlp = spacy.load(\"en_core_web_sm\")\n",
    "print(\"Pipeline:\", nlp.pipe_names)\n",
    "doc = nlp(\"I was reading the paper.\")\n",
    "token = doc[0]  # 'I'\n",
    "print(token.morph)  # 'Case=Nom|Number=Sing|Person=1|PronType=Prs'\n",
    "print(token.morph.get(\"PronType\")) "
   ]
  },
  {
   "cell_type": "code",
   "execution_count": 26,
   "metadata": {},
   "outputs": [
    {
     "name": "stdout",
     "output_type": "stream",
     "text": [
      "Tekst: Lech Wałęsa, Podstawowa forma: Lech Wałęsa, Typ: persName\n",
      "Tekst: Polsce, Podstawowa forma: Polska, Typ: placeName\n",
      "Tekst: Jana Pawła Ii, Podstawowa forma: Jan Paweł Ii, Typ: persName\n",
      "Tekst: Marii Konopnickiej, Podstawowa forma: Maria Konopnicka, Typ: persName\n"
     ]
    }
   ],
   "source": [
    "import spacy\n",
    "\n",
    "# Załadowanie modelu językowego\n",
    "nlp = spacy.load('pl_core_news_sm')\n",
    "\n",
    "# Przykładowy tekst\n",
    "text = \"Lech Wałęsa urodził się w Polsce i jest byłym prezydentem. Był świadkiem wyboru Jana Pawła Ii na papieża oraz ustanowienia Marii Konopnickiej sekretarzem stanu.\"\n",
    "\n",
    "# Przetworzenie tekstu\n",
    "doc = nlp(text)\n",
    "\n",
    "# Wyodrębnienie nazw własnych (named entities) i ich podstawowych form\n",
    "entities = [(ent.text, ent.lemma_, ent.label_) for ent in doc.ents]\n",
    "\n",
    "# Wyświetlenie wyników\n",
    "for entity in entities:\n",
    "    print(f\"Tekst: {entity[0]}, Podstawowa forma: {entity[1]}, Typ: {entity[2]}\")"
   ]
  }
 ],
 "metadata": {
  "kernelspec": {
   "display_name": "Python 3",
   "language": "python",
   "name": "python3"
  },
  "language_info": {
   "codemirror_mode": {
    "name": "ipython",
    "version": 3
   },
   "file_extension": ".py",
   "mimetype": "text/x-python",
   "name": "python",
   "nbconvert_exporter": "python",
   "pygments_lexer": "ipython3",
   "version": "3.11.4"
  }
 },
 "nbformat": 4,
 "nbformat_minor": 2
}
